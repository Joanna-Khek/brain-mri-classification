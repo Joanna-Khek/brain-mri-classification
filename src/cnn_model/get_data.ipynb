{
 "cells": [
  {
   "cell_type": "code",
   "execution_count": 71,
   "metadata": {},
   "outputs": [],
   "source": [
    "import zipfile\n",
    "import shutil\n",
    "import random\n",
    "import os\n",
    "from pathlib import Path\n",
    "from glob import glob\n",
    "from cnn_model.config import settings"
   ]
  },
  {
   "cell_type": "code",
   "execution_count": 120,
   "metadata": {},
   "outputs": [
    {
     "name": "stdout",
     "output_type": "stream",
     "text": [
      "Downloading brain-mri-images-for-brain-tumor-detection.zip to ../data\n",
      "\n"
     ]
    },
    {
     "name": "stderr",
     "output_type": "stream",
     "text": [
      "\n",
      "  0%|          | 0.00/15.1M [00:00<?, ?B/s]\n",
      "  7%|▋         | 1.00M/15.1M [00:00<00:13, 1.10MB/s]\n",
      " 13%|█▎        | 2.00M/15.1M [00:01<00:06, 2.16MB/s]\n",
      " 26%|██▋       | 4.00M/15.1M [00:01<00:02, 4.55MB/s]\n",
      " 46%|████▋     | 7.00M/15.1M [00:01<00:00, 8.54MB/s]\n",
      " 66%|██████▌   | 10.0M/15.1M [00:01<00:00, 12.0MB/s]\n",
      " 86%|████████▌ | 13.0M/15.1M [00:01<00:00, 13.3MB/s]\n",
      "100%|██████████| 15.1M/15.1M [00:01<00:00, 8.92MB/s]\n"
     ]
    }
   ],
   "source": [
    "# Download dataset\n",
    "!kaggle datasets download -p \"../data\" \"navoneel/brain-mri-images-for-brain-tumor-detection\""
   ]
  },
  {
   "cell_type": "code",
   "execution_count": 24,
   "metadata": {},
   "outputs": [],
   "source": [
    "# Extract data\n",
    "data_path = settings.DATASET_DIR\n",
    "for file in data_path.glob(\"*.zip\"):\n",
    "    zip_ref = zipfile.ZipFile(file, 'r')\n",
    "    zip_ref.extractall(data_path)"
   ]
  }
 ],
 "metadata": {
  "kernelspec": {
   "display_name": ".venv",
   "language": "python",
   "name": "python3"
  },
  "language_info": {
   "codemirror_mode": {
    "name": "ipython",
    "version": 3
   },
   "file_extension": ".py",
   "mimetype": "text/x-python",
   "name": "python",
   "nbconvert_exporter": "python",
   "pygments_lexer": "ipython3",
   "version": "3.9.13"
  }
 },
 "nbformat": 4,
 "nbformat_minor": 2
}
